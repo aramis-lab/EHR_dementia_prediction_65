{
 "cells": [
  {
   "cell_type": "code",
   "execution_count": null,
   "id": "55113797",
   "metadata": {},
   "outputs": [],
   "source": [
    "\"\"\"\n",
    "Expected data path and required files: \n",
    "\n",
    "DATA_DIR\n",
    "├── UK_65\n",
    "│    ├── *_PERSON.csv\n",
    "│    ├── *_CONTACT_DIAGNOSTICS.csv\n",
    "│    ├── *_CONTACT_PRESCRIPTIONS.csv\n",
    "│    ├── *_MEASURE_CHANGES.csv\n",
    "│    ├── *_SOCIAL_CHANGES.csv\n",
    "│    ├── *_ATTRIBUTES_CHANGES.csv\n",
    "│    └── *_PERSON_MEASURE_CHANGES.csv\n",
    "│\n",
    "├── UK_70\n",
    "├── FR_65\n",
    "└── FR_70\n",
    "\n",
    "MAPPING_DIR\n",
    "├── mapping.csv\n",
    "├── complementary_icd10_mapping_UK.pkl # dictionay mapping labels to icd10 code\n",
    "└── complementary_icd10_mapping_FR.pkl # dictionay mapping labels to icd10 code\n",
    "\"\"\"\n",
    "\n",
    "DATA_DIR = '../../../data/Extractions_EU'\n",
    "MAPPING_DIR = '../../../data/mapping'\n",
    "OUTPUT_DIR = '../../../data/datasets'\n",
    "\n",
    "# All the new files will be registered in a file associated to the following path:\n",
    "# /localdrive10TB/users/charlotte.montaud/datasets/COUNTRY_AGEsuffix\n",
    "# where COUNTRY can either be UK or FR and AGE can either be 65 or 70.\n",
    "# The suffix indicates the computing that has been done on the dataset.\n",
    "# The current existing suffixes in my repository are: \n",
    "# '' when nothing has been done\n",
    "# 'bis' for the dataset that includes diagnosis columns\n",
    "# 'mci' for dataset that includes diagnosis columns and that does not remove patients having had MCI before 2010\n",
    "# 'from2000' for 'mci' dataset that also takes into account health information from 2000 (and not only from 2008)\n",
    "# 'allmeds' for 'mci' dataset with all meds taken into account (not only the 50 most frequent)\n",
    "\n",
    "suffix = 'from2005_withfreq'"
   ]
  },
  {
   "cell_type": "code",
   "execution_count": null,
   "id": "43825180",
   "metadata": {},
   "outputs": [],
   "source": [
    "CODES = {}\n",
    "\n",
    "CODES['alzheimer'] = {\n",
    "    'F00', # \"Démence de la maladie d’Alzheimer (G30.- †)\"\n",
    "    'G30', # \"Maladie d’Alzheimer\"\n",
    "} \n",
    "\n",
    "CODES['parkinson'] = {\n",
    "    'G20', # \"Maladie de Parkinson\"   \n",
    "    # 'G23.2', # \"Atrophie multi-systématisée de type parkinsonien [AMS-P] [MSA-P]\"\n",
    "    # 'G23.3', # \"Atrophie multi-systématisée de type cérébelleux [AMS-C] [MSA-C]\"\n",
    "}\n",
    "\n",
    "CODES['vascular_dementias'] = {\n",
    "    'F01', # \"Démence vasculaire\"\n",
    "}\n",
    "\n",
    "# Mild cognitive impairment\n",
    "CODES['mci'] = {\n",
    "    'F06.7', # \"Trouble cognitif léger\" \n",
    "    'R41.8', # \"Symptômes et signes relatifs aux fonctions cognitives et à la conscience, autres et non précisés\"\n",
    "    'R41', # \"Autres symptômes et signes relatifs aux fonctions cognitives et à la conscience\"\n",
    "}\n",
    "\n",
    "CODES['alcohol_dementias'] = {\n",
    "    'F10.6', # \"Syndrome amnésique dû à l’alcool\"\n",
    "    #'F02.8', # \"Démence au cours d’autres maladies classées ailleurs\" (+ intoxication alcoolique)\n",
    "    'G31.2', # \"Dégénérescence du système nerveux liée à l’alcool\"\n",
    "    'E51.2', # \"Encéphalopathie de Wernicke\"\n",
    "}\n",
    "\n",
    "CODES['frontotemporal_dementias'] = {\n",
    "    'G31.0', # \"Circumscribed brain atrophy\"\n",
    "    'F02.0', # \"Dementia in Pick disease (G31.0†)\"\n",
    "}\n",
    "\n",
    "CODES['other_dementias'] = {\n",
    "    'F02', # \"Démence au cours d’autres maladies classées ailleurs\"    \n",
    "    'F03', # \"Démence, sans précision\"\n",
    "    'F04', # \"Syndrome amnésique organique, non induit par l’alcool et d’autres substances psychoactives\"\n",
    "    'F05.1', # \"Delirium surajouté à une démence\"\n",
    "    \n",
    "    'G31.01', # \"Maladie de Pick\"\n",
    "    'G31.09', # \"Autre trouble neurocognitif frontotemporal\"\n",
    "    'G31.1', # \"Dégénérescence cérébrale sénile, non classée ailleurs\"\n",
    "}\n",
    "\n",
    "CODES['parkinson_dementias'] = {\n",
    "    'F02.3', # \"Démence de la maladie de Parkinson\"\n",
    "    'G31.8', # \"Autres affections dégénératives précisées du système nerveux\" \n",
    "             #     Corps de Lewy (maladie à) (démence à) (F02.8 *)\n",
    "    #'F02.8', # \"Démence au cours d’autres maladies classées ailleurs\"\n",
    "}\n",
    "\n",
    "from functools import reduce\n",
    "all_dementias_codes = [CODES[key] for key in CODES.keys() if key not in {'parkinson', 'mci'}]\n",
    "CODES['all_dementias'] = reduce(set.union, all_dementias_codes)\n",
    "\n",
    "all_dementias_codes = [CODES[key] for key in CODES.keys() if key not in {'parkinson'}]\n",
    "CODES['all_dementias+mci'] = reduce(set.union, all_dementias_codes)\n",
    "\n",
    "\n",
    "DISEASES_OF_INTEREST = list(CODES.keys())"
   ]
  },
  {
   "cell_type": "markdown",
   "id": "4199616c",
   "metadata": {},
   "source": [
    "# Utils"
   ]
  },
  {
   "cell_type": "markdown",
   "id": "bbc8e31d",
   "metadata": {},
   "source": [
    "### Importations"
   ]
  },
  {
   "cell_type": "code",
   "execution_count": null,
   "id": "511d1dd8",
   "metadata": {},
   "outputs": [],
   "source": [
    "import os\n",
    "import pandas as pd\n",
    "import numpy as np\n",
    "from sklearn.preprocessing import MultiLabelBinarizer\n",
    "\n",
    "from typing import Dict, Set, List, Tuple\n",
    "import datetime\n",
    "\n",
    "from glob import glob\n",
    "import pickle\n",
    "\n",
    "from IPython.display import display\n",
    "\n",
    "pd.options.mode.chained_assignment = None # disable (false positive) warning "
   ]
  },
  {
   "cell_type": "code",
   "execution_count": null,
   "id": "58c96037",
   "metadata": {},
   "outputs": [],
   "source": [
    "DataFrameStatsTuple = Tuple[pd.DataFrame, Dict[str, int]]"
   ]
  },
  {
   "cell_type": "code",
   "execution_count": null,
   "id": "91d0ac83",
   "metadata": {},
   "outputs": [],
   "source": [
    "def print_nan_stats(df):\n",
    "    nan_stats = df.isna().sum().iloc[:10]\n",
    "    nan_stats = pd.DataFrame(nan_stats, columns=['# NaN'])\n",
    "    nan_stats_percent = np.round(nan_stats*100/len(df),2).rename(columns={'# NaN':'NaN (%)'})\n",
    "    display(pd.concat([nan_stats, nan_stats_percent], axis=1).T)\n",
    "    print(f'{len(df):,} patients\\n')\n",
    "\n",
    "def count_diseases(df):\n",
    "    for disease in DISEASES_OF_INTEREST:\n",
    "        n = df['diseases'].apply(lambda x: any(d == disease for d, t in x)).sum()\n",
    "        print(f'\\t- {n:,} patients having {disease}')\n",
    "\n",
    "def processing_nans(df, to_censure)->pd.DataFrame:\n",
    "    print('* Original dataset:')\n",
    "    print_nan_stats(df)\n",
    "    \n",
    "    print('* Processing NaNs:')\n",
    "    # Excluding people that are either dead before the period of interest, always 'Temporaire' (UK) \n",
    "    # or always inactive\n",
    "    mask = df['person_state_code'].isna()\n",
    "    print(f'\\t> Excluding {sum(mask):,} patients due to being either dead before the \\n\\t'\n",
    "         'period of interest or always Temporaire / Inactive.\\n')\n",
    "    df = df[~mask]\n",
    "    \n",
    "    # We assume that patients that are not present in DIAGNOSTICS table are healthy\n",
    "    removed_person_ids = set(to_censure.keys()).intersection(df['person_id'])\n",
    "    print(f\"\\t> Excluding {len(removed_person_ids):,} patients who had a disease before the end of\\n\\t\"\n",
    "         \"the period of interest.\\n\")\n",
    "    \n",
    "    removed_diseases = []\n",
    "    for person_id in removed_person_ids:\n",
    "        removed_diseases.extend(to_censure[person_id])\n",
    "    for disease in DISEASES_OF_INTEREST:\n",
    "         print(f\"\\t\\t- {removed_diseases.count(disease):,} patients having {disease}\")\n",
    "    df = df[~df['person_id'].isin(removed_person_ids)]\n",
    "    \n",
    "    mask = df['diseases'].isna()\n",
    "    print(f\"\\n\\t> Filling {sum(mask):,} patients' diseases column for patient having no\\n\\t\"\n",
    "          \"diagnostics (assuming no neurodegenerative diseases).\\n\")\n",
    "    df.loc[mask, 'diseases'] = df.loc[mask, 'diseases'].apply(lambda x: [])\n",
    "    \n",
    "    # We assume that people have no prescriptions do not take the medications\n",
    "    print(f\"\\t> Filling {df.iloc[:,-1].isna().sum():,} patients' medications columns for patients having\\n\\t\"\n",
    "          \"no prescriptions (assuming no medications were taken).\\n\")\n",
    "    cols_medications = df.columns[9:]\n",
    "    df[cols_medications] = df[cols_medications].fillna(0)\n",
    "    \n",
    "    print('* After processing:')\n",
    "    print_nan_stats(df)\n",
    "    \n",
    "    print('Diseases:')\n",
    "    count_diseases(df)\n",
    "    \n",
    "    return df"
   ]
  },
  {
   "cell_type": "code",
   "execution_count": null,
   "id": "2a9e7b75",
   "metadata": {},
   "outputs": [],
   "source": [
    "def save_dataset(df, to_censure:dict, inactive_ids:set, stats:dict, country, age, base_dir=OUTPUT_DIR):\n",
    "    ## Manage folders\n",
    "    # Create output directory if it doesn't exist\n",
    "    if not os.path.exists(base_dir):\n",
    "        os.mkdir(base_dir)\n",
    "    \n",
    "    # Create output subdirectory if it doesn't exist\n",
    "    sub_dir = os.path.join(base_dir, f\"{country}_{age}\")\n",
    "    if not os.path.exists(sub_dir):\n",
    "        os.mkdir(sub_dir)\n",
    "    else:\n",
    "        # Assert that the subdirectory is empty\n",
    "        assert not os.listdir(sub_dir), f\"Directory {sub_dir} is not empty.\"\n",
    "    \n",
    "    ## Save objects\n",
    "    # dataset\n",
    "    dataset_path = os.path.join(sub_dir, \"dataset.csv\")\n",
    "    df.to_csv(dataset_path, index=False)\n",
    "    \n",
    "    # to_censure \n",
    "    to_censure_path = os.path.join(sub_dir, \"to_censure.pkl\")\n",
    "    with open(to_censure_path, \"wb\") as f:\n",
    "        pickle.dump(to_censure, f)\n",
    "    \n",
    "    # inactive_ids\n",
    "    inactive_ids_path = os.path.join(sub_dir, \"inactive_ids.pkl\")\n",
    "    with open(inactive_ids_path, \"wb\") as f:\n",
    "        pickle.dump(inactive_ids, f)\n",
    "    \n",
    "    # stats\n",
    "    stats_path = os.path.join(sub_dir, \"stats.pkl\")\n",
    "    with open(stats_path, \"wb\") as f:\n",
    "        pickle.dump(stats, f)"
   ]
  },
  {
   "cell_type": "markdown",
   "id": "7e34be54",
   "metadata": {},
   "source": [
    "### Params"
   ]
  },
  {
   "cell_type": "code",
   "execution_count": null,
   "id": "d0f0ad3d",
   "metadata": {},
   "outputs": [],
   "source": [
    "min_before=1; min_during=0; min_after=1\n",
    "start_year=2008; end_year=2010\n",
    "\n",
    "n_most_frequent=50\n",
    "valid_height_range=(100, 250); valid_weight_range=(30, 250) # value from paper\n",
    "extraction_date='2023-01-01'"
   ]
  },
  {
   "cell_type": "markdown",
   "id": "602243b7",
   "metadata": {},
   "source": [
    "### UK_65"
   ]
  },
  {
   "cell_type": "code",
   "execution_count": null,
   "id": "91734746",
   "metadata": {
    "scrolled": true
   },
   "outputs": [],
   "source": [
    "import sys\n",
    "sys.path.append('Clean code')\n",
    "from get_dataset import get_dataset\n",
    "\n",
    "dataset_UK_65, has_another_disease_before_UK_65, inactive_ids_UK_65, stats_UK_65 = get_dataset(country='UK', age=65, valid_height_range=valid_height_range, valid_weight_range=valid_weight_range,\n",
    "      min_before=min_before, min_during=min_during, min_after=min_after,\n",
    "      n_most_frequent=n_most_frequent,\n",
    "      start_year=start_year, end_year=end_year,\n",
    "      extraction_date=extraction_date, mapping_dir=MAPPING_DIR, ref_codes=CODES)"
   ]
  },
  {
   "cell_type": "code",
   "execution_count": null,
   "id": "5eae3490",
   "metadata": {
    "scrolled": true
   },
   "outputs": [],
   "source": [
    "dataset_UK_65 = processing_nans(dataset_UK_65, has_another_disease_before_UK_65)"
   ]
  },
  {
   "cell_type": "code",
   "execution_count": null,
   "id": "4846b7d7",
   "metadata": {},
   "outputs": [],
   "source": [
    "save_dataset(dataset_UK_65, has_another_disease_before_UK_65,\n",
    "             inactive_ids_UK_65, stats_UK_65, \n",
    "             'UK', 65)"
   ]
  },
  {
   "cell_type": "markdown",
   "id": "6777fb5c",
   "metadata": {},
   "source": [
    "### UK_70"
   ]
  },
  {
   "cell_type": "code",
   "execution_count": null,
   "id": "44f418e4",
   "metadata": {
    "scrolled": true
   },
   "outputs": [],
   "source": [
    "%%time\n",
    "dataset_UK_70, has_another_disease_before_UK_70, inactive_ids_UK_70, stats_UK_70 = get_dataset(\n",
    "    country='UK', age=70, \n",
    "    valid_height_range=valid_height_range , valid_weight_range=valid_weight_range, \n",
    "    min_before=min_before, min_during=min_during, min_after=min_after,\n",
    "    n_most_frequent=n_most_frequent, \n",
    "    start_year=start_year, end_year=end_year,\n",
    "    extraction_date=extraction_date,mapping_dir=MAPPING_DIR, ref_codes=CODES)"
   ]
  },
  {
   "cell_type": "code",
   "execution_count": null,
   "id": "d07e866c",
   "metadata": {
    "scrolled": true
   },
   "outputs": [],
   "source": [
    "dataset_UK_70 = processing_nans(dataset_UK_70, has_another_disease_before_UK_70)"
   ]
  },
  {
   "cell_type": "code",
   "execution_count": null,
   "id": "33f02b64",
   "metadata": {
    "scrolled": true
   },
   "outputs": [],
   "source": [
    "save_dataset(dataset_UK_70, has_another_disease_before_UK_70, \n",
    "             inactive_ids_UK_70, stats_UK_70, \n",
    "             'UK', 70)"
   ]
  },
  {
   "cell_type": "markdown",
   "id": "063df4e2",
   "metadata": {},
   "source": [
    "### FR_65"
   ]
  },
  {
   "cell_type": "code",
   "execution_count": null,
   "id": "6bb65478",
   "metadata": {
    "scrolled": true
   },
   "outputs": [],
   "source": [
    "%%time\n",
    "dataset_FR_65, has_another_disease_before_FR_65, inactive_ids_FR_65, stats_FR_65 = get_dataset(\n",
    "    country='FR', age=65, \n",
    "    valid_height_range=valid_height_range , valid_weight_range=valid_weight_range, \n",
    "    min_before=min_before, min_during=min_during, min_after=min_after,\n",
    "    n_most_frequent=n_most_frequent, \n",
    "    start_year=start_year, end_year=end_year,\n",
    "    extraction_date=extraction_date,mapping_dir=MAPPING_DIR, ref_codes=CODES)"
   ]
  },
  {
   "cell_type": "code",
   "execution_count": null,
   "id": "1cc95a00",
   "metadata": {
    "scrolled": true
   },
   "outputs": [],
   "source": [
    "dataset_FR_65 = processing_nans(dataset_FR_65, has_another_disease_before_FR_65)"
   ]
  },
  {
   "cell_type": "code",
   "execution_count": null,
   "id": "6ea0c461",
   "metadata": {},
   "outputs": [],
   "source": [
    "save_dataset(dataset_FR_65, has_another_disease_before_FR_65, \n",
    "             inactive_ids_FR_65, stats_FR_65,\n",
    "             'FR', 65)"
   ]
  },
  {
   "cell_type": "markdown",
   "id": "4f19baa6",
   "metadata": {},
   "source": [
    "### FR_70"
   ]
  },
  {
   "cell_type": "code",
   "execution_count": null,
   "id": "f3fb4fff",
   "metadata": {
    "scrolled": true
   },
   "outputs": [],
   "source": [
    "%%time\n",
    "dataset_FR_70, has_another_disease_before_FR_70, inactive_ids_FR_70, stats_FR_70 = get_dataset(\n",
    "    country='FR', age=70, \n",
    "    valid_height_range=valid_height_range , valid_weight_range=valid_weight_range, \n",
    "    min_before=min_before, min_during=min_during, min_after=min_after,\n",
    "    n_most_frequent=n_most_frequent, \n",
    "    start_year=start_year, end_year=end_year,\n",
    "    extraction_date=extraction_date,mapping_dir=MAPPING_DIR, ref_codes=CODES)"
   ]
  },
  {
   "cell_type": "code",
   "execution_count": null,
   "id": "7ba7537f",
   "metadata": {
    "scrolled": true
   },
   "outputs": [],
   "source": [
    "dataset_FR_70 = processing_nans(dataset_FR_70, has_another_disease_before_FR_70)"
   ]
  },
  {
   "cell_type": "code",
   "execution_count": null,
   "id": "8f895a3a",
   "metadata": {},
   "outputs": [],
   "source": [
    "save_dataset(dataset_FR_70, has_another_disease_before_FR_70, \n",
    "             inactive_ids_FR_70, stats_FR_70,\n",
    "             'FR', 70)"
   ]
  },
  {
   "cell_type": "code",
   "execution_count": null,
   "id": "3c4ba206",
   "metadata": {},
   "outputs": [],
   "source": [
    "!ls {OUTPUT_DIR}"
   ]
  },
  {
   "cell_type": "code",
   "execution_count": null,
   "id": "699a13cb",
   "metadata": {},
   "outputs": [],
   "source": [
    "DISEASES_OF_INTEREST"
   ]
  }
 ],
 "metadata": {
  "kernelspec": {
   "display_name": "base",
   "language": "python",
   "name": "python3"
  },
  "language_info": {
   "codemirror_mode": {
    "name": "ipython",
    "version": 3
   },
   "file_extension": ".py",
   "mimetype": "text/x-python",
   "name": "python",
   "nbconvert_exporter": "python",
   "pygments_lexer": "ipython3",
   "version": "3.13.5"
  }
 },
 "nbformat": 4,
 "nbformat_minor": 5
}
